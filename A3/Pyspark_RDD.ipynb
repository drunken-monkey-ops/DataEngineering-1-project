{
 "cells": [
  {
   "cell_type": "markdown",
   "id": "0008db12-b457-44d8-a6e3-a15f4734b3f4",
   "metadata": {},
   "source": [
    "## Section A - Working with the RDD API"
   ]
  },
  {
   "cell_type": "code",
   "execution_count": 6,
   "id": "a3176c48-6a84-4864-be2c-427dd554012a",
   "metadata": {},
   "outputs": [],
   "source": [
    "from pyspark.sql import SparkSession\n",
    "from operator import add\n",
    "import re\n",
    "\n",
    "spark_session = SparkSession\\\n",
    "        .builder\\\n",
    "        .master(\"spark://192.168.2.250:7077\") \\\n",
    "        .appName(\"Koushik_A3\")\\\n",
    "        .config(\"spark.dynamicAllocation.enabled\", True)\\\n",
    "        .config(\"spark.dynamicAllocation.shuffleTracking.enabled\",True)\\\n",
    "        .config(\"spark.shuffle.service.enabled\", False)\\\n",
    "        .config(\"spark.dynamicAllocation.executorIdleTimeout\",\"30s\")\\\n",
    "        .config(\"spark.executor.cores\",2)\\\n",
    "        .config(\"spark.driver.port\",9999)\\\n",
    "        .config(\"spark.blockManager.port\",10005)\\\n",
    "        .getOrCreate()\n",
    "\n",
    "# RDD API\n",
    "spark_context = spark_session.sparkContext\n",
    "\n",
    "spark_context.setLogLevel(\"ERROR\")"
   ]
  },
  {
   "cell_type": "markdown",
   "id": "8c883717-434e-418a-a963-569a1640788a",
   "metadata": {},
   "source": [
    "## Question A1"
   ]
  },
  {
   "cell_type": "markdown",
   "id": "5b6a6403-ca10-4c4f-8d0d-e230506556d0",
   "metadata": {},
   "source": [
    "#### Question A.1.1 Read the English transcripts with Spark, and count the number of lines."
   ]
  },
  {
   "cell_type": "code",
   "execution_count": 7,
   "id": "63e7a065-e917-4125-89fc-c5f56abec9fb",
   "metadata": {},
   "outputs": [
    {
     "name": "stderr",
     "output_type": "stream",
     "text": [
      "[Stage 0:=======================================>                   (2 + 1) / 3]\r"
     ]
    },
    {
     "name": "stdout",
     "output_type": "stream",
     "text": [
      "1997775\n"
     ]
    },
    {
     "name": "stderr",
     "output_type": "stream",
     "text": [
      "                                                                                \r"
     ]
    }
   ],
   "source": [
    "# Number of lines in the English transcript.\n",
    "english_transcript = spark_context.textFile(\"hdfs://192.168.2.250:9000/europarl/europarl-v7.nl-en.en\")\n",
    "print(english_transcript.count())"
   ]
  },
  {
   "cell_type": "markdown",
   "id": "83e302f5-6f6a-4c64-b95c-1f3ffb3f1e97",
   "metadata": {},
   "source": [
    "#### Question A.1.2 Do the same with the other language"
   ]
  },
  {
   "cell_type": "code",
   "execution_count": 8,
   "id": "770387df-75cf-4ef3-a2a9-12d06cdf368c",
   "metadata": {},
   "outputs": [
    {
     "name": "stderr",
     "output_type": "stream",
     "text": [
      "[Stage 1:=======================================>                   (2 + 1) / 3]\r"
     ]
    },
    {
     "name": "stdout",
     "output_type": "stream",
     "text": [
      "1997775\n"
     ]
    },
    {
     "name": "stderr",
     "output_type": "stream",
     "text": [
      "                                                                                \r"
     ]
    }
   ],
   "source": [
    "# Number of lines in the Dutch transcript.\n",
    "netherlands_transcript = spark_context.textFile(\"hdfs://192.168.2.250:9000/europarl/europarl-v7.nl-en.nl\")\n",
    "print(netherlands_transcript.count())"
   ]
  },
  {
   "cell_type": "markdown",
   "id": "6b0a4d0f-3f02-44e3-b997-5fd489adfb05",
   "metadata": {},
   "source": [
    "#### Question A.1.3 Verify that the line counts are the same for the two languages."
   ]
  },
  {
   "cell_type": "code",
   "execution_count": 9,
   "id": "a072389b-a681-4b84-b7de-01aac7e3c99f",
   "metadata": {},
   "outputs": [
    {
     "name": "stderr",
     "output_type": "stream",
     "text": [
      "[Stage 4:=======================================>                   (2 + 1) / 3]\r"
     ]
    },
    {
     "name": "stdout",
     "output_type": "stream",
     "text": [
      "Line counts are same: 1997775\n"
     ]
    },
    {
     "name": "stderr",
     "output_type": "stream",
     "text": [
      "                                                                                \r"
     ]
    }
   ],
   "source": [
    "#checking if the line count are same in the both the transcript.\n",
    "if english_transcript.count() == netherlands_transcript.count():\n",
    "    print(f'Line counts are same: {english_transcript.count()}')\n",
    "else:\n",
    "    print('not same')"
   ]
  },
  {
   "cell_type": "markdown",
   "id": "98161e97-9992-441b-9496-eeb8b4396875",
   "metadata": {},
   "source": [
    "#### Question A.1.4 Count the number of partitions"
   ]
  },
  {
   "cell_type": "code",
   "execution_count": 4,
   "id": "d708b349-f052-47c3-87d4-b53a47053257",
   "metadata": {},
   "outputs": [
    {
     "name": "stdout",
     "output_type": "stream",
     "text": [
      "3\n"
     ]
    }
   ],
   "source": [
    "# Number of partitons.\n",
    "print(english_transcript.getNumPartitions())"
   ]
  },
  {
   "cell_type": "code",
   "execution_count": 5,
   "id": "b940d6e8-4c3c-4f93-88d8-95438d3135f2",
   "metadata": {},
   "outputs": [
    {
     "name": "stdout",
     "output_type": "stream",
     "text": [
      "3\n"
     ]
    }
   ],
   "source": [
    "# Number of partitons.\n",
    "print(netherlands_transcript.getNumPartitions())"
   ]
  },
  {
   "cell_type": "markdown",
   "id": "ede8d2bb-48fe-427c-8cab-05d50b045849",
   "metadata": {},
   "source": [
    "## Question A2"
   ]
  },
  {
   "cell_type": "markdown",
   "id": "e94c0ac0-ce0b-4425-b7d0-792e2cfe1578",
   "metadata": {},
   "source": [
    "#### Question A.2.1 Pre-process the text from both RDDs by doing the following:\n",
    "##### 1) Lowercase the text\n",
    "##### 2) Tokenize the text\n"
   ]
  },
  {
   "cell_type": "code",
   "execution_count": 10,
   "id": "71c28bbf-a53b-4227-9a99-68e7206ae4f6",
   "metadata": {},
   "outputs": [],
   "source": [
    "# Preprocessing the text by lowering and tokenizing them into words\n",
    "def lower_tokenize(line):\n",
    "    line = re.sub(r'[^\\w]',\" \",line)\n",
    "    return line.lower().split()\n",
    "    "
   ]
  },
  {
   "cell_type": "code",
   "execution_count": 11,
   "id": "1c46488c-3abe-400e-ab6e-fb5403bc3a01",
   "metadata": {},
   "outputs": [],
   "source": [
    "\n",
    "english_transcript_preprocessed = english_transcript.map(lower_tokenize)"
   ]
  },
  {
   "cell_type": "code",
   "execution_count": 12,
   "id": "6f986256-a1c0-4159-aef9-3a37802ed595",
   "metadata": {},
   "outputs": [],
   "source": [
    "netherlands_transcript_preprocessed = netherlands_transcript.map(lower_tokenize)"
   ]
  },
  {
   "cell_type": "markdown",
   "id": "e034cee2-16a6-4802-8bdb-36c5737de316",
   "metadata": {},
   "source": [
    "#### Question A.2.2 Inspect 10 entries from each of your RDDs to verify your pre-processing."
   ]
  },
  {
   "cell_type": "code",
   "execution_count": 108,
   "id": "7937c7a6-01b8-44f6-af61-bc0356022050",
   "metadata": {},
   "outputs": [
    {
     "name": "stderr",
     "output_type": "stream",
     "text": [
      "[Stage 67:>                                                         (0 + 1) / 1]\r"
     ]
    },
    {
     "name": "stdout",
     "output_type": "stream",
     "text": [
      "['resumption', 'of', 'the', 'session']\n",
      "['i', 'declare', 'resumed', 'the', 'session', 'of', 'the', 'european', 'parliament', 'adjourned', 'on', 'friday', '17', 'december', '1999', 'and', 'i', 'would', 'like', 'once', 'again', 'to', 'wish', 'you', 'a', 'happy', 'new', 'year', 'in', 'the', 'hope', 'that', 'you', 'enjoyed', 'a', 'pleasant', 'festive', 'period']\n",
      "['although', 'as', 'you', 'will', 'have', 'seen', 'the', 'dreaded', 'millennium', 'bug', 'failed', 'to', 'materialise', 'still', 'the', 'people', 'in', 'a', 'number', 'of', 'countries', 'suffered', 'a', 'series', 'of', 'natural', 'disasters', 'that', 'truly', 'were', 'dreadful']\n",
      "['you', 'have', 'requested', 'a', 'debate', 'on', 'this', 'subject', 'in', 'the', 'course', 'of', 'the', 'next', 'few', 'days', 'during', 'this', 'part', 'session']\n",
      "['in', 'the', 'meantime', 'i', 'should', 'like', 'to', 'observe', 'a', 'minute', 's', 'silence', 'as', 'a', 'number', 'of', 'members', 'have', 'requested', 'on', 'behalf', 'of', 'all', 'the', 'victims', 'concerned', 'particularly', 'those', 'of', 'the', 'terrible', 'storms', 'in', 'the', 'various', 'countries', 'of', 'the', 'european', 'union']\n",
      "['please', 'rise', 'then', 'for', 'this', 'minute', 's', 'silence']\n",
      "['the', 'house', 'rose', 'and', 'observed', 'a', 'minute', 's', 'silence']\n",
      "['madam', 'president', 'on', 'a', 'point', 'of', 'order']\n",
      "['you', 'will', 'be', 'aware', 'from', 'the', 'press', 'and', 'television', 'that', 'there', 'have', 'been', 'a', 'number', 'of', 'bomb', 'explosions', 'and', 'killings', 'in', 'sri', 'lanka']\n",
      "['one', 'of', 'the', 'people', 'assassinated', 'very', 'recently', 'in', 'sri', 'lanka', 'was', 'mr', 'kumar', 'ponnambalam', 'who', 'had', 'visited', 'the', 'european', 'parliament', 'just', 'a', 'few', 'months', 'ago']\n"
     ]
    },
    {
     "name": "stderr",
     "output_type": "stream",
     "text": [
      "                                                                                \r"
     ]
    }
   ],
   "source": [
    "# Checking the preprocessed text.\n",
    "for i in english_transcript_preprocessed.take(10):\n",
    "    print(i)"
   ]
  },
  {
   "cell_type": "code",
   "execution_count": 109,
   "id": "dfca70b4-9345-467b-b728-8e515930debf",
   "metadata": {},
   "outputs": [
    {
     "name": "stderr",
     "output_type": "stream",
     "text": [
      "[Stage 68:>                                                         (0 + 1) / 1]\r"
     ]
    },
    {
     "name": "stdout",
     "output_type": "stream",
     "text": [
      "['hervatting', 'van', 'de', 'zitting']\n",
      "['ik', 'verklaar', 'de', 'zitting', 'van', 'het', 'europees', 'parlement', 'die', 'op', 'vrijdag', '17', 'december', 'werd', 'onderbroken', 'te', 'zijn', 'hervat', 'ik', 'wens', 'u', 'allen', 'een', 'gelukkig', 'nieuwjaar', 'en', 'hoop', 'dat', 'u', 'een', 'goede', 'vakantie', 'heeft', 'gehad']\n",
      "['zoals', 'u', 'heeft', 'kunnen', 'constateren', 'is', 'de', 'grote', 'millenniumbug', 'uitgebleven', 'de', 'burgers', 'van', 'een', 'aantal', 'van', 'onze', 'lidstaten', 'zijn', 'daarentegen', 'door', 'verschrikkelijke', 'natuurrampen', 'getroffen']\n",
      "['u', 'heeft', 'aangegeven', 'dat', 'u', 'deze', 'vergaderperiode', 'een', 'debat', 'wilt', 'over', 'deze', 'rampen']\n",
      "['nu', 'wil', 'ik', 'graag', 'op', 'verzoek', 'van', 'een', 'aantal', 'collega', 's', 'een', 'minuut', 'stilte', 'in', 'acht', 'nemen', 'ter', 'nagedachtenis', 'van', 'de', 'slachtoffers', 'ik', 'doel', 'hiermee', 'met', 'name', 'op', 'de', 'slachtoffers', 'van', 'het', 'noodweer', 'dat', 'verschillende', 'lidstaten', 'van', 'de', 'unie', 'heeft', 'geteisterd']\n",
      "['ik', 'wil', 'u', 'vragen', 'deze', 'minuut', 'stilte', 'staande', 'in', 'acht', 'te', 'nemen']\n",
      "['het', 'parlement', 'neemt', 'staande', 'een', 'minuut', 'stilte', 'in', 'acht']\n",
      "['mevrouw', 'de', 'voorzitter', 'ik', 'wil', 'een', 'motie', 'van', 'orde', 'stellen']\n",
      "['u', 'zult', 'via', 'de', 'media', 'hebben', 'vernomen', 'dat', 'er', 'zich', 'in', 'sri', 'lanka', 'een', 'aantal', 'bomexplosies', 'en', 'schietpartijen', 'hebben', 'voorgedaan']\n",
      "['een', 'van', 'de', 'mensen', 'die', 'zeer', 'recent', 'in', 'sri', 'lanka', 'is', 'vermoord', 'is', 'de', 'heer', 'kumar', 'ponnambalam', 'die', 'een', 'paar', 'maanden', 'geleden', 'nog', 'een', 'bezoek', 'bracht', 'aan', 'het', 'europees', 'parlement']\n"
     ]
    },
    {
     "name": "stderr",
     "output_type": "stream",
     "text": [
      "                                                                                \r"
     ]
    }
   ],
   "source": [
    "# Checking the preprocessed text.\n",
    "for i in netherlands_transcript_preprocessed.take(10):\n",
    "    print(i)"
   ]
  },
  {
   "cell_type": "markdown",
   "id": "13a8bdee-d169-4b40-b813-4374ea6ba0d4",
   "metadata": {},
   "source": [
    "#### Question A.2.3 Verify that the line counts still match after the pre-processing."
   ]
  },
  {
   "cell_type": "code",
   "execution_count": 110,
   "id": "f6bb6a99-ab38-404e-b049-d6b2779fc967",
   "metadata": {},
   "outputs": [
    {
     "name": "stderr",
     "output_type": "stream",
     "text": [
      "[Stage 71:======================================>                   (2 + 1) / 3]\r"
     ]
    },
    {
     "name": "stdout",
     "output_type": "stream",
     "text": [
      "Line counts are same: 1997775\n"
     ]
    },
    {
     "name": "stderr",
     "output_type": "stream",
     "text": [
      "                                                                                \r"
     ]
    }
   ],
   "source": [
    "# verify number of lines\n",
    "if english_transcript_preprocessed.count() == netherlands_transcript_preprocessed.count():\n",
    "    print(f'Line counts are same: {english_transcript_preprocessed.count()}')\n",
    "else:\n",
    "    print('not same')"
   ]
  },
  {
   "cell_type": "markdown",
   "id": "0693d5af-da41-4952-b93f-585df262c447",
   "metadata": {},
   "source": [
    "## Question 1.A.3"
   ]
  },
  {
   "cell_type": "markdown",
   "id": "0d35276e-f79a-47c7-8e8b-e8c6d61ab090",
   "metadata": {},
   "source": [
    "#### Question A.3.1 Use Spark to compute the 10 most frequently according words in the English language corpus. Repeat for the other language. "
   ]
  },
  {
   "cell_type": "code",
   "execution_count": 27,
   "id": "99aa89c4-3e5d-4705-a3f6-1faf4f0295c3",
   "metadata": {},
   "outputs": [],
   "source": [
    "# function for mapping and reducing\n",
    "def flat_list(l):\n",
    "    return l\n",
    "def map_key(word):\n",
    "    return (word , 1)\n",
    "\n",
    "def sort_key(key):\n",
    "    return -key[1]\n",
    "    "
   ]
  },
  {
   "cell_type": "code",
   "execution_count": 112,
   "id": "84e51d0f-240e-4db7-9201-74dd94707786",
   "metadata": {},
   "outputs": [],
   "source": [
    "mapped_english_transcript = english_transcript_preprocessed.flatMap(flat_list).map(map_key).reduceByKey(add)\n"
   ]
  },
  {
   "cell_type": "code",
   "execution_count": 113,
   "id": "cac32ec4-5a4b-445c-a02f-899df05655c3",
   "metadata": {},
   "outputs": [],
   "source": [
    "mapped_netherlands_transcript = netherlands_transcript_preprocessed.flatMap(flat_list).map(map_key).reduceByKey(add)"
   ]
  },
  {
   "cell_type": "code",
   "execution_count": 114,
   "id": "9a698dac-71ab-4be3-9055-18388f6b29cf",
   "metadata": {},
   "outputs": [
    {
     "name": "stdout",
     "output_type": "stream",
     "text": [
      "top 10 most frequently occured word in English transcript\n"
     ]
    },
    {
     "name": "stderr",
     "output_type": "stream",
     "text": [
      "[Stage 72:======================================>                   (2 + 1) / 3]\r"
     ]
    },
    {
     "name": "stdout",
     "output_type": "stream",
     "text": [
      "the: 3799961\n",
      "of: 1799784\n",
      "to: 1673342\n",
      "and: 1426903\n",
      "in: 1189698\n",
      "that: 909311\n",
      "a: 841063\n",
      "is: 837897\n",
      "for: 580560\n",
      "we: 573706\n"
     ]
    },
    {
     "name": "stderr",
     "output_type": "stream",
     "text": [
      "                                                                                \r"
     ]
    }
   ],
   "source": [
    "# Top 10 most frequently occured word in English transcript\n",
    "print('top 10 most frequently occured word in English transcript')\n",
    "for i,j in mapped_english_transcript.takeOrdered(10, sort_key):\n",
    "    print(f'{i}: {j}')"
   ]
  },
  {
   "cell_type": "code",
   "execution_count": 115,
   "id": "aa58e406-d259-4ecf-af56-9ec0294b2094",
   "metadata": {},
   "outputs": [
    {
     "name": "stdout",
     "output_type": "stream",
     "text": [
      "top 10 most frequently occured word in Dutch transcript\n"
     ]
    },
    {
     "name": "stderr",
     "output_type": "stream",
     "text": [
      "[Stage 74:======================================>                   (2 + 1) / 3]\r"
     ]
    },
    {
     "name": "stdout",
     "output_type": "stream",
     "text": [
      "de: 3862249\n",
      "van: 2053837\n",
      "het: 1726514\n",
      "en: 1370030\n",
      "in: 1003820\n",
      "dat: 992734\n",
      "een: 992302\n",
      "te: 727012\n",
      "is: 701511\n",
      "voor: 595325\n"
     ]
    },
    {
     "name": "stderr",
     "output_type": "stream",
     "text": [
      "                                                                                \r"
     ]
    }
   ],
   "source": [
    "# Top 10 most frequently occured word in English transcript\n",
    "print('top 10 most frequently occured word in Dutch transcript')\n",
    "for i,j in mapped_netherlands_transcript.takeOrdered(10, sort_key):\n",
    "    print(f'{i}: {j}')"
   ]
  },
  {
   "cell_type": "markdown",
   "id": "5f5cf271-cb1f-4d81-a296-35bbf5f03fab",
   "metadata": {},
   "source": [
    "#### Question A.3.2 Verify that your results are reasonable."
   ]
  },
  {
   "cell_type": "markdown",
   "id": "ac8c80c2-b49e-4366-8b0d-27ab90b816a9",
   "metadata": {},
   "source": [
    "Downloaded the english and dutch transcripts from the link: http://www.statmt.org/europarl/ and used grep command to find top 10 most frequently occuring words in english and in dutch got almost same words came as most frequent words and the counts differed between output from grep command and the map-reduce."
   ]
  },
  {
   "cell_type": "markdown",
   "id": "f31fd40b-59f0-414d-859c-fccb6e345f0f",
   "metadata": {},
   "source": [
    "## Question A.4"
   ]
  },
  {
   "cell_type": "markdown",
   "id": "c03605d9-bf76-4935-93f1-17a2d8b39cf5",
   "metadata": {},
   "source": [
    "#### A.4.1 Use this parallel corpus to mine some translations in the form of word pairs, for the twolanguages. Do this by pairing words found on short lines with the same number of words respectively. We (incorrectly) assume the words stay in the same order when translated."
   ]
  },
  {
   "cell_type": "markdown",
   "id": "f4f53517-f165-4cc6-b3c0-141c2b7d9371",
   "metadata": {},
   "source": [
    "#### Key the lines by their line number"
   ]
  },
  {
   "cell_type": "code",
   "execution_count": 13,
   "id": "1bef845b-56c8-4402-89b0-0b9fd66bc894",
   "metadata": {},
   "outputs": [
    {
     "name": "stderr",
     "output_type": "stream",
     "text": [
      "                                                                                \r"
     ]
    },
    {
     "name": "stdout",
     "output_type": "stream",
     "text": [
      "[(['resumption', 'of', 'the', 'session'], 0), (['i', 'declare', 'resumed', 'the', 'session', 'of', 'the', 'european', 'parliament', 'adjourned', 'on', 'friday', '17', 'december', '1999', 'and', 'i', 'would', 'like', 'once', 'again', 'to', 'wish', 'you', 'a', 'happy', 'new', 'year', 'in', 'the', 'hope', 'that', 'you', 'enjoyed', 'a', 'pleasant', 'festive', 'period'], 1), (['although', 'as', 'you', 'will', 'have', 'seen', 'the', 'dreaded', 'millennium', 'bug', 'failed', 'to', 'materialise', 'still', 'the', 'people', 'in', 'a', 'number', 'of', 'countries', 'suffered', 'a', 'series', 'of', 'natural', 'disasters', 'that', 'truly', 'were', 'dreadful'], 2), (['you', 'have', 'requested', 'a', 'debate', 'on', 'this', 'subject', 'in', 'the', 'course', 'of', 'the', 'next', 'few', 'days', 'during', 'this', 'part', 'session'], 3), (['in', 'the', 'meantime', 'i', 'should', 'like', 'to', 'observe', 'a', 'minute', 's', 'silence', 'as', 'a', 'number', 'of', 'members', 'have', 'requested', 'on', 'behalf', 'of', 'all', 'the', 'victims', 'concerned', 'particularly', 'those', 'of', 'the', 'terrible', 'storms', 'in', 'the', 'various', 'countries', 'of', 'the', 'european', 'union'], 4)]\n"
     ]
    },
    {
     "name": "stderr",
     "output_type": "stream",
     "text": [
      "                                                                                \r"
     ]
    }
   ],
   "source": [
    "en_1 = english_transcript_preprocessed.zipWithIndex()\n",
    "print(en_1.take(5))"
   ]
  },
  {
   "cell_type": "code",
   "execution_count": 14,
   "id": "689e43b2-a6d4-4f13-9bd2-b40cd864aa9b",
   "metadata": {},
   "outputs": [
    {
     "name": "stderr",
     "output_type": "stream",
     "text": [
      "[Stage 8:>                                                          (0 + 1) / 1]\r"
     ]
    },
    {
     "name": "stdout",
     "output_type": "stream",
     "text": [
      "[(['hervatting', 'van', 'de', 'zitting'], 0), (['ik', 'verklaar', 'de', 'zitting', 'van', 'het', 'europees', 'parlement', 'die', 'op', 'vrijdag', '17', 'december', 'werd', 'onderbroken', 'te', 'zijn', 'hervat', 'ik', 'wens', 'u', 'allen', 'een', 'gelukkig', 'nieuwjaar', 'en', 'hoop', 'dat', 'u', 'een', 'goede', 'vakantie', 'heeft', 'gehad'], 1), (['zoals', 'u', 'heeft', 'kunnen', 'constateren', 'is', 'de', 'grote', 'millenniumbug', 'uitgebleven', 'de', 'burgers', 'van', 'een', 'aantal', 'van', 'onze', 'lidstaten', 'zijn', 'daarentegen', 'door', 'verschrikkelijke', 'natuurrampen', 'getroffen'], 2), (['u', 'heeft', 'aangegeven', 'dat', 'u', 'deze', 'vergaderperiode', 'een', 'debat', 'wilt', 'over', 'deze', 'rampen'], 3), (['nu', 'wil', 'ik', 'graag', 'op', 'verzoek', 'van', 'een', 'aantal', 'collega', 's', 'een', 'minuut', 'stilte', 'in', 'acht', 'nemen', 'ter', 'nagedachtenis', 'van', 'de', 'slachtoffers', 'ik', 'doel', 'hiermee', 'met', 'name', 'op', 'de', 'slachtoffers', 'van', 'het', 'noodweer', 'dat', 'verschillende', 'lidstaten', 'van', 'de', 'unie', 'heeft', 'geteisterd'], 4)]\n"
     ]
    },
    {
     "name": "stderr",
     "output_type": "stream",
     "text": [
      "                                                                                \r"
     ]
    }
   ],
   "source": [
    "\n",
    "\n",
    "nl_1 = netherlands_transcript_preprocessed.zipWithIndex()\n",
    "print(nl_1.take(5))"
   ]
  },
  {
   "cell_type": "markdown",
   "id": "186e1115-786a-4a06-8b4b-994e3ae4a686",
   "metadata": {},
   "source": [
    "#### Swap the key and value - so that the line number is the key"
   ]
  },
  {
   "cell_type": "code",
   "execution_count": 15,
   "id": "fea94210-b4c8-4522-950b-16c2257d9468",
   "metadata": {},
   "outputs": [],
   "source": [
    "def swap_element(rdd):\n",
    "    return rdd.map(lambda x: (x[1],x[0]))\n",
    "\n",
    "\n",
    "en_2 = swap_element(en_1)\n",
    "nl_2 = swap_element(nl_1)"
   ]
  },
  {
   "cell_type": "code",
   "execution_count": 16,
   "id": "0ae24cb4-5e70-4703-93c6-6f7df45ab3fe",
   "metadata": {},
   "outputs": [
    {
     "name": "stdout",
     "output_type": "stream",
     "text": [
      "[(0, ['resumption', 'of', 'the', 'session']), (1, ['i', 'declare', 'resumed', 'the', 'session', 'of', 'the', 'european', 'parliament', 'adjourned', 'on', 'friday', '17', 'december', '1999', 'and', 'i', 'would', 'like', 'once', 'again', 'to', 'wish', 'you', 'a', 'happy', 'new', 'year', 'in', 'the', 'hope', 'that', 'you', 'enjoyed', 'a', 'pleasant', 'festive', 'period']), (2, ['although', 'as', 'you', 'will', 'have', 'seen', 'the', 'dreaded', 'millennium', 'bug', 'failed', 'to', 'materialise', 'still', 'the', 'people', 'in', 'a', 'number', 'of', 'countries', 'suffered', 'a', 'series', 'of', 'natural', 'disasters', 'that', 'truly', 'were', 'dreadful']), (3, ['you', 'have', 'requested', 'a', 'debate', 'on', 'this', 'subject', 'in', 'the', 'course', 'of', 'the', 'next', 'few', 'days', 'during', 'this', 'part', 'session']), (4, ['in', 'the', 'meantime', 'i', 'should', 'like', 'to', 'observe', 'a', 'minute', 's', 'silence', 'as', 'a', 'number', 'of', 'members', 'have', 'requested', 'on', 'behalf', 'of', 'all', 'the', 'victims', 'concerned', 'particularly', 'those', 'of', 'the', 'terrible', 'storms', 'in', 'the', 'various', 'countries', 'of', 'the', 'european', 'union'])]\n"
     ]
    },
    {
     "name": "stderr",
     "output_type": "stream",
     "text": [
      "                                                                                \r"
     ]
    }
   ],
   "source": [
    "print(en_2.take(5))"
   ]
  },
  {
   "cell_type": "code",
   "execution_count": 17,
   "id": "092a55d1-448c-4c8c-a36b-9e4ef21eff62",
   "metadata": {},
   "outputs": [
    {
     "name": "stdout",
     "output_type": "stream",
     "text": [
      "[(0, ['hervatting', 'van', 'de', 'zitting']), (1, ['ik', 'verklaar', 'de', 'zitting', 'van', 'het', 'europees', 'parlement', 'die', 'op', 'vrijdag', '17', 'december', 'werd', 'onderbroken', 'te', 'zijn', 'hervat', 'ik', 'wens', 'u', 'allen', 'een', 'gelukkig', 'nieuwjaar', 'en', 'hoop', 'dat', 'u', 'een', 'goede', 'vakantie', 'heeft', 'gehad']), (2, ['zoals', 'u', 'heeft', 'kunnen', 'constateren', 'is', 'de', 'grote', 'millenniumbug', 'uitgebleven', 'de', 'burgers', 'van', 'een', 'aantal', 'van', 'onze', 'lidstaten', 'zijn', 'daarentegen', 'door', 'verschrikkelijke', 'natuurrampen', 'getroffen']), (3, ['u', 'heeft', 'aangegeven', 'dat', 'u', 'deze', 'vergaderperiode', 'een', 'debat', 'wilt', 'over', 'deze', 'rampen']), (4, ['nu', 'wil', 'ik', 'graag', 'op', 'verzoek', 'van', 'een', 'aantal', 'collega', 's', 'een', 'minuut', 'stilte', 'in', 'acht', 'nemen', 'ter', 'nagedachtenis', 'van', 'de', 'slachtoffers', 'ik', 'doel', 'hiermee', 'met', 'name', 'op', 'de', 'slachtoffers', 'van', 'het', 'noodweer', 'dat', 'verschillende', 'lidstaten', 'van', 'de', 'unie', 'heeft', 'geteisterd'])]\n"
     ]
    }
   ],
   "source": [
    "print(nl_2.take(5))"
   ]
  },
  {
   "cell_type": "markdown",
   "id": "f4b87e97-5937-46be-9211-5da2a2a8202c",
   "metadata": {},
   "source": [
    "#### Join the two RDDs together according to the line number key, so you have pairs of matching lines."
   ]
  },
  {
   "cell_type": "code",
   "execution_count": 18,
   "id": "adf267e8-31de-442c-94b4-5a20face2306",
   "metadata": {},
   "outputs": [
    {
     "name": "stderr",
     "output_type": "stream",
     "text": [
      "[Stage 12:>                                                         (0 + 1) / 1]\r"
     ]
    },
    {
     "name": "stdout",
     "output_type": "stream",
     "text": [
      "[(933654, (['we', 'must', 'switch', 'over', 'to', 'the', 'digital', 'age', 'for', 'which', 'we', 'must', 'implement', 'e', 'inclusion', 'in', 'all', 'areas', 'and', 'for', 'everyone'], ['we', 'moeten', 'omschakelen', 'naar', 'het', 'digitale', 'tijdperk', 'om', 'dat', 'te', 'bereiken', 'moeten', 'we', 'zorgen', 'dat', 'alle', 'gebieden', 'en', 'alle', 'mensen', 'worden', 'opgenomen', 'in', 'de', 'e', 'samenleving'])), (1010370, (['travel', 'money', 'however', 'is', 'not', 'the', 'true', 'essence', 'of', 'economic', 'and', 'monetary', 'union', 'it', 'is', 'the', 'common', 'monetary', 'policy'], ['reisgeld', 'is', 'echter', 'niet', 'de', 'ware', 'essentie', 'van', 'de', 'economische', 'en', 'monetaire', 'unie', 'dat', 'is', 'het', 'gemeenschappelijk', 'monetair', 'beleid'])), (1025256, (['there', 'again', 'we', 'have', 'already', 'proposed', 'pilot', 'countries', 'involving', 'the', 'largest', 'number', 'of', 'member', 'states'], ['ook', 'op', 'dat', 'gebied', 'hebben', 'we', 'al', 'pilotlanden', 'voorgesteld', 'waar', 'een', 'zo', 'groot', 'mogelijk', 'aantal', 'lidstaten', 'betrokken', 'bij', 'is'])), (1072566, (['18'], ['18'])), (1116858, (['they', 'also', 'have', 'a', 'responsibility', 'to', 'ensure', 'that', 'children', 'play', 'safely'], ['ook', 'zij', 'zijn', 'ervoor', 'verantwoordelijk', 'dat', 'kinderen', 'veilig', 'spelen']))]\n"
     ]
    },
    {
     "name": "stderr",
     "output_type": "stream",
     "text": [
      "                                                                                \r"
     ]
    }
   ],
   "source": [
    "en_nl_join = en_2.join(nl_2)\n",
    "print(en_nl_join.take(5))"
   ]
  },
  {
   "cell_type": "markdown",
   "id": "ef9724b8-3d96-4b85-aed9-38049181ea46",
   "metadata": {},
   "source": [
    "#### Filter to exclude line pairs that have an empty/missing “corresponding” sentence."
   ]
  },
  {
   "cell_type": "code",
   "execution_count": 22,
   "id": "0a4be596-d933-469e-939f-b05e8069430f",
   "metadata": {},
   "outputs": [
    {
     "name": "stderr",
     "output_type": "stream",
     "text": [
      "[Stage 20:>                                                         (0 + 1) / 1]\r"
     ]
    },
    {
     "name": "stdout",
     "output_type": "stream",
     "text": [
      "[(816642, (['barriers', 'also', 'exist', 'that', 'limit', 'mortgage', 'lenders', 'incentives', 'to', 'operate', 'cross', 'border', 'thus', 'preventing', 'new', 'and', 'innovative', 'products', 'and', 'processes', 'from', 'being', 'introduced', 'in', 'other', 'markets', 'across', 'europe'], ['er', 'bestaan', 'ook', 'belemmeringen', 'die', 'verhinderen', 'dat', 'kredietverstrekkers', 'gestimuleerd', 'worden', 'om', 'grensoverschrijdend', 'actief', 'te', 'zijn', 'daardoor', 'wordt', 'voorkomen', 'dat', 'nieuwe', 'en', 'innovatieve', 'producten', 'en', 'processen', 'op', 'andere', 'markten', 'in', 'europa', 'worden', 'geïntroduceerd'])), (817248, (['as', 'mrs', 'grossetête', 'has', 'indicated', 'the', 'construction', 'industry', 'also', 'creates', 'economic', 'activity', 'as', 'you', 'well', 'know'], ['zoals', 'mevrouw', 'grossetête', 'heeft', 'aangegeven', 'en', 'zoals', 'u', 'wel', 'weet', 'ontplooit', 'ook', 'de', 'bouwsector', 'economische', 'activiteiten'])), (818412, (['there', 'is', 'very', 'little', 'decentralisation', 'and', 'when', 'there', 'is', 'decentralisation', 'it', 'is', 'powers', 'that', 'are', 'decentralised', 'but', 'the', 'resources', 'are', 'not', 'provided', 'to', 'carry', 'out', 'the', 'planned', 'actions', 'or', 'to', 'exercise', 'these', 'powers'], ['er', 'is', 'heel', 'weinig', 'decentralisatie', 'en', 'als', 'die', 'er', 'is', 'decentraliseert', 'men', 'de', 'bevoegdheden', 'maar', 'geeft', 'men', 'niet', 'de', 'middelen', 'om', 'de', 'geplande', 'acties', 'tot', 'een', 'goed', 'einde', 'te', 'brengen', 'of', 'de', 'bevoegdheden', 'uit', 'te', 'voeren'])), (826632, (['that', 'is', 'quite', 'normal', 'but', 'it', 'can', 'result', 'in', 'excesses'], ['dat', 'is', 'vrij', 'normaal', 'maar', 'soms', 'overdrijft', 'men'])), (832668, (['we', 'have', 'taken', 'on', 'the', 'priorities', 'of', 'the', 'financial', 'perspective'], ['we', 'hebben', 'onszelf', 'de', 'prioriteiten', 'van', 'de', 'financiële', 'vooruitzichten', 'opgelegd']))]\n"
     ]
    },
    {
     "name": "stderr",
     "output_type": "stream",
     "text": [
      "                                                                                \r"
     ]
    }
   ],
   "source": [
    "en_nl_filter = en_nl_join.filter(lambda x: x[1][0] != [] and x[1][1] != [])\n",
    "\n",
    "print(en_nl_filter.take(5))"
   ]
  },
  {
   "cell_type": "markdown",
   "id": "56f0e80f-b3c1-4aa9-90dd-4b491e6a8ce5",
   "metadata": {},
   "source": [
    "#### Filter to leave only pairs of sentences with a small number of words per sentence this should give a more reliable translation."
   ]
  },
  {
   "cell_type": "code",
   "execution_count": 30,
   "id": "62f57ea4-e4c3-4ff9-900e-256fed60fba1",
   "metadata": {},
   "outputs": [
    {
     "name": "stderr",
     "output_type": "stream",
     "text": [
      "[Stage 34:>                                                         (0 + 1) / 1]\r"
     ]
    },
    {
     "name": "stdout",
     "output_type": "stream",
     "text": [
      "[(982224, (['closing', 'of', 'the', 'session'], ['sluiting', 'van', 'de', 'zitting'])), (1363620, (['children', 'are', 'precious', 'they', 'must', 'be', 'protected'], ['kinderen', 'zijn', 'kwetsbaar', 'en', 'moeten', 'worden', 'beschermd'])), (1504842, (['i', 'find', 'that', 'regrettable'], ['ik', 'vind', 'dit', 'betreurenswaardig'])), (1611762, (['labelling', 'is', 'consumer', 'information', 'and', 'should', 'be', 'compulsory'], ['etikettering', 'is', 'consumentenvoorlichting', 'en', 'dient', 'verplicht', 'te', 'worden'])), (840936, (['mr', 'francis', 'wurtz', '48', 'votes'], ['de', 'heer', 'francis', 'wurtz', '48', 'stemmen']))]\n"
     ]
    },
    {
     "name": "stderr",
     "output_type": "stream",
     "text": [
      "                                                                                \r"
     ]
    }
   ],
   "source": [
    "en_nl_len_filter = en_nl_filter.filter(lambda x: len(x[1][0]) <= 8 and len(x[1][1]) <= 8)\n",
    "\n",
    "print(en_nl_len_filter.take(5))"
   ]
  },
  {
   "cell_type": "markdown",
   "id": "f0d3edcc-0eff-4fdb-85f7-f9f47f104f30",
   "metadata": {},
   "source": [
    "#### Filter to leave only pairs of sentences with the same number of words in each sentence."
   ]
  },
  {
   "cell_type": "code",
   "execution_count": 31,
   "id": "80e43605-8eeb-4442-b8c4-8fffee4232c3",
   "metadata": {},
   "outputs": [
    {
     "name": "stderr",
     "output_type": "stream",
     "text": [
      "[Stage 36:>                                                         (0 + 1) / 1]\r"
     ]
    },
    {
     "name": "stdout",
     "output_type": "stream",
     "text": [
      "[(81054, (['question', 'no', '46', 'by', 'h', '0600', '00'], ['vraag', 'nr', '46', 'van', 'h', '0600', '00'])), (246546, (['as', 'europeans', 'how', 'can', 'we', 'find', 'another', 'way'], ['welke', 'ander', 'antwoord', 'weten', 'wij', 'europeanen', 'te', 'geven'])), (276834, (['applause'], ['applaus'])), (279144, (['the', 'debate', 'is', 'closed'], ['het', 'debat', 'is', 'gesloten'])), (354714, (['applause'], ['applaus']))]\n"
     ]
    },
    {
     "name": "stderr",
     "output_type": "stream",
     "text": [
      "                                                                                \r"
     ]
    }
   ],
   "source": [
    "en_nl_equal_len_filter = en_nl_len_filter.filter(lambda x: len(x[1][0]) == len(x[1][1]))\n",
    "\n",
    "print(en_nl_equal_len_filter.take(5))"
   ]
  },
  {
   "cell_type": "markdown",
   "id": "31143db7-a470-413e-8560-0ac4d4943747",
   "metadata": {},
   "source": [
    "#### For each sentence pair, map so that you pair each (in order) word in the two sentences. We no longer need the line numbers."
   ]
  },
  {
   "cell_type": "code",
   "execution_count": 32,
   "id": "244d37ff-f47c-4787-b41e-3b64ddaacc5c",
   "metadata": {},
   "outputs": [
    {
     "name": "stderr",
     "output_type": "stream",
     "text": [
      "[Stage 38:>                                                         (0 + 1) / 1]\r"
     ]
    },
    {
     "name": "stdout",
     "output_type": "stream",
     "text": [
      "[[('the', 'de'), ('minutes', 'notulen'), ('were', 'worden'), ('approved', 'goedgekeurd')], [('we', 'wij'), ('must', 'moeten'), ('wait', 'wachten'), ('until', 'tot'), ('2005', '2005')], [('the', 'het'), ('debate', 'debat'), ('is', 'is'), ('closed', 'gesloten')], [('welcome', 'welkomstwoord')], [('that', 'dat'), ('is', 'is'), ('the', 'de'), ('main', 'belangrijkste'), ('argument', 'reden')]]\n"
     ]
    },
    {
     "name": "stderr",
     "output_type": "stream",
     "text": [
      "                                                                                \r"
     ]
    }
   ],
   "source": [
    "en_nl_map = en_nl_equal_len_filter.map(lambda x: list(zip(x[1][0], x[1][1])))\n",
    "\n",
    "print(en_nl_map.take(5))"
   ]
  },
  {
   "cell_type": "markdown",
   "id": "f0620a69-a0e3-4910-9f52-e575dad2a219",
   "metadata": {},
   "source": [
    "#### Use reduce to count the number of occurrences of the word-translation-pairs."
   ]
  },
  {
   "cell_type": "code",
   "execution_count": 33,
   "id": "7c983f62-6ad9-4ec9-bbe8-351fe2ef963b",
   "metadata": {},
   "outputs": [
    {
     "name": "stderr",
     "output_type": "stream",
     "text": [
      "[Stage 40:================================================>         (5 + 1) / 6]\r"
     ]
    },
    {
     "name": "stdout",
     "output_type": "stream",
     "text": [
      "[(('in', 'in'), 1117), (('diversity', 'verscheidenheid'), 5), (('for', 'dank'), 7), (('it', 'het'), 1156), (('intervention', 'interventie'), 2), (('any', 'enkel'), 1), (('to', 'tegen'), 36), (('by', 'van'), 743), (('h', 'h'), 554), (('algeria', 'algerije'), 19)]\n"
     ]
    },
    {
     "name": "stderr",
     "output_type": "stream",
     "text": [
      "                                                                                \r"
     ]
    }
   ],
   "source": [
    "en_nl_map_reduce = en_nl_map.flatMap(flat_list).map(map_key).reduceByKey(add)\n",
    "print(en_nl_map_reduce.take(10))"
   ]
  },
  {
   "cell_type": "markdown",
   "id": "0e91c402-f89d-4b67-ab92-b5cebc82ff7f",
   "metadata": {},
   "source": [
    "#### Print some of the most frequently occurring pairs of words."
   ]
  },
  {
   "cell_type": "code",
   "execution_count": 34,
   "id": "e9da3d84-01e5-429b-b3b7-579e00b5ac03",
   "metadata": {},
   "outputs": [
    {
     "name": "stdout",
     "output_type": "stream",
     "text": [
      "is:is => 12297\n",
      "the:de => 8135\n",
      "the:het => 6959\n",
      "debate:debat => 5045\n",
      "closed:gesloten => 4765\n",
      "applause:applaus => 3714\n",
      "that:dat => 3240\n",
      "of:van => 2954\n",
      "i:ik => 2837\n",
      "a:een => 2719\n"
     ]
    }
   ],
   "source": [
    "for i,j in en_nl_map_reduce.takeOrdered(10,sort_key):\n",
    "    print(f'{i[0]}:{i[1]} => {j}')"
   ]
  },
  {
   "cell_type": "markdown",
   "id": "7e13f1cb-e498-4417-b045-daa35c433a87",
   "metadata": {},
   "source": [
    "### Do your translations seem reasonable? Use a dictionary to check a few."
   ]
  },
  {
   "cell_type": "markdown",
   "id": "961e2ed0-c67a-4671-a36a-4276414b39a8",
   "metadata": {},
   "source": [
    "Checked with Google translate and the dutch words matched with corresponding english words."
   ]
  },
  {
   "cell_type": "code",
   "execution_count": 35,
   "id": "03d8ed7c-9af7-45f0-9719-698ccf57a213",
   "metadata": {},
   "outputs": [],
   "source": [
    "spark_context.stop()"
   ]
  }
 ],
 "metadata": {
  "kernelspec": {
   "display_name": "Python 3 (ipykernel)",
   "language": "python",
   "name": "python3"
  },
  "language_info": {
   "codemirror_mode": {
    "name": "ipython",
    "version": 3
   },
   "file_extension": ".py",
   "mimetype": "text/x-python",
   "name": "python",
   "nbconvert_exporter": "python",
   "pygments_lexer": "ipython3",
   "version": "3.8.10"
  }
 },
 "nbformat": 4,
 "nbformat_minor": 5
}
