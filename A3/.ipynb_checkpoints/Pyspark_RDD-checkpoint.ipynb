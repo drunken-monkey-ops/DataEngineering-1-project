{
 "cells": [
  {
   "cell_type": "markdown",
   "id": "7d2c4c3b-5d32-4e00-998e-e22a94032b86",
   "metadata": {},
   "source": [
    "## Importing Modules for pyspark"
   ]
  },
  {
   "cell_type": "code",
   "execution_count": 36,
   "id": "a3176c48-6a84-4864-be2c-427dd554012a",
   "metadata": {},
   "outputs": [],
   "source": [
    "from pyspark.sql import SparkSession\n",
    "from operator import add\n",
    "import re\n",
    "\n",
    "spark_session = SparkSession\\\n",
    "        .builder\\\n",
    "        .master(\"spark://192.168.2.250:7077\") \\\n",
    "        .appName(\"Koushik_A3\")\\\n",
    "        .config(\"spark.dynamicAllocation.enabled\", True)\\\n",
    "        .config(\"spark.dynamicAllocation.shuffleTracking.enabled\",True)\\\n",
    "        .config(\"spark.shuffle.service.enabled\", False)\\\n",
    "        .config(\"spark.dynamicAllocation.executorIdleTimeout\",\"30s\")\\\n",
    "        .config(\"spark.executor.cores\",2)\\\n",
    "        .config(\"spark.driver.port\",9999)\\\n",
    "        .config(\"spark.blockManager.port\",10005)\\\n",
    "        .getOrCreate()\n",
    "\n",
    "# RDD API\n",
    "spark_context = spark_session.sparkContext\n",
    "\n",
    "spark_context.setLogLevel(\"ERROR\")"
   ]
  },
  {
   "cell_type": "code",
   "execution_count": 2,
   "id": "63e7a065-e917-4125-89fc-c5f56abec9fb",
   "metadata": {},
   "outputs": [
    {
     "name": "stderr",
     "output_type": "stream",
     "text": [
      "[Stage 0:>                                                          (0 + 3) / 3]\r"
     ]
    },
    {
     "name": "stdout",
     "output_type": "stream",
     "text": [
      "1997775\n"
     ]
    },
    {
     "name": "stderr",
     "output_type": "stream",
     "text": [
      "                                                                                \r"
     ]
    }
   ],
   "source": [
    "english_transcript = spark_context.textFile(\"hdfs://192.168.2.250:9000/europarl/europarl-v7.nl-en.en\")\n",
    "print(english_transcript.count())"
   ]
  },
  {
   "cell_type": "code",
   "execution_count": 3,
   "id": "770387df-75cf-4ef3-a2a9-12d06cdf368c",
   "metadata": {},
   "outputs": [
    {
     "name": "stderr",
     "output_type": "stream",
     "text": [
      "[Stage 1:=======================================>                   (2 + 1) / 3]\r"
     ]
    },
    {
     "name": "stdout",
     "output_type": "stream",
     "text": [
      "1997775\n"
     ]
    },
    {
     "name": "stderr",
     "output_type": "stream",
     "text": [
      "                                                                                \r"
     ]
    }
   ],
   "source": [
    "netherlands_transcript = spark_context.textFile(\"hdfs://192.168.2.250:9000/europarl/europarl-v7.nl-en.nl\")\n",
    "print(netherlands_transcript.count())"
   ]
  },
  {
   "cell_type": "code",
   "execution_count": 4,
   "id": "d708b349-f052-47c3-87d4-b53a47053257",
   "metadata": {},
   "outputs": [
    {
     "name": "stdout",
     "output_type": "stream",
     "text": [
      "3\n"
     ]
    }
   ],
   "source": [
    "print(english_transcript.getNumPartitions())"
   ]
  },
  {
   "cell_type": "code",
   "execution_count": 5,
   "id": "b940d6e8-4c3c-4f93-88d8-95438d3135f2",
   "metadata": {},
   "outputs": [
    {
     "name": "stdout",
     "output_type": "stream",
     "text": [
      "3\n"
     ]
    }
   ],
   "source": [
    "print(netherlands_transcript.getNumPartitions())"
   ]
  },
  {
   "cell_type": "code",
   "execution_count": 105,
   "id": "71c28bbf-a53b-4227-9a99-68e7206ae4f6",
   "metadata": {},
   "outputs": [],
   "source": [
    "def lower_tokenize(line):\n",
    "    line = re.sub(r'[^\\w]',\" \",line)\n",
    "    return line.lower().split()\n",
    "    "
   ]
  },
  {
   "cell_type": "code",
   "execution_count": 106,
   "id": "1c46488c-3abe-400e-ab6e-fb5403bc3a01",
   "metadata": {},
   "outputs": [],
   "source": [
    "english_transcript_preprocessed = english_transcript.map(lower_tokenize)"
   ]
  },
  {
   "cell_type": "code",
   "execution_count": 107,
   "id": "6f986256-a1c0-4159-aef9-3a37802ed595",
   "metadata": {},
   "outputs": [],
   "source": [
    "netherlands_transcript_preprocessed = netherlands_transcript.map(lower_tokenize)"
   ]
  },
  {
   "cell_type": "code",
   "execution_count": 108,
   "id": "7937c7a6-01b8-44f6-af61-bc0356022050",
   "metadata": {},
   "outputs": [
    {
     "name": "stderr",
     "output_type": "stream",
     "text": [
      "[Stage 67:>                                                         (0 + 1) / 1]\r"
     ]
    },
    {
     "name": "stdout",
     "output_type": "stream",
     "text": [
      "['resumption', 'of', 'the', 'session']\n",
      "['i', 'declare', 'resumed', 'the', 'session', 'of', 'the', 'european', 'parliament', 'adjourned', 'on', 'friday', '17', 'december', '1999', 'and', 'i', 'would', 'like', 'once', 'again', 'to', 'wish', 'you', 'a', 'happy', 'new', 'year', 'in', 'the', 'hope', 'that', 'you', 'enjoyed', 'a', 'pleasant', 'festive', 'period']\n",
      "['although', 'as', 'you', 'will', 'have', 'seen', 'the', 'dreaded', 'millennium', 'bug', 'failed', 'to', 'materialise', 'still', 'the', 'people', 'in', 'a', 'number', 'of', 'countries', 'suffered', 'a', 'series', 'of', 'natural', 'disasters', 'that', 'truly', 'were', 'dreadful']\n",
      "['you', 'have', 'requested', 'a', 'debate', 'on', 'this', 'subject', 'in', 'the', 'course', 'of', 'the', 'next', 'few', 'days', 'during', 'this', 'part', 'session']\n",
      "['in', 'the', 'meantime', 'i', 'should', 'like', 'to', 'observe', 'a', 'minute', 's', 'silence', 'as', 'a', 'number', 'of', 'members', 'have', 'requested', 'on', 'behalf', 'of', 'all', 'the', 'victims', 'concerned', 'particularly', 'those', 'of', 'the', 'terrible', 'storms', 'in', 'the', 'various', 'countries', 'of', 'the', 'european', 'union']\n",
      "['please', 'rise', 'then', 'for', 'this', 'minute', 's', 'silence']\n",
      "['the', 'house', 'rose', 'and', 'observed', 'a', 'minute', 's', 'silence']\n",
      "['madam', 'president', 'on', 'a', 'point', 'of', 'order']\n",
      "['you', 'will', 'be', 'aware', 'from', 'the', 'press', 'and', 'television', 'that', 'there', 'have', 'been', 'a', 'number', 'of', 'bomb', 'explosions', 'and', 'killings', 'in', 'sri', 'lanka']\n",
      "['one', 'of', 'the', 'people', 'assassinated', 'very', 'recently', 'in', 'sri', 'lanka', 'was', 'mr', 'kumar', 'ponnambalam', 'who', 'had', 'visited', 'the', 'european', 'parliament', 'just', 'a', 'few', 'months', 'ago']\n"
     ]
    },
    {
     "name": "stderr",
     "output_type": "stream",
     "text": [
      "                                                                                \r"
     ]
    }
   ],
   "source": [
    "\n",
    "for i in english_transcript_preprocessed.take(10):\n",
    "    print(i)"
   ]
  },
  {
   "cell_type": "code",
   "execution_count": 109,
   "id": "dfca70b4-9345-467b-b728-8e515930debf",
   "metadata": {},
   "outputs": [
    {
     "name": "stderr",
     "output_type": "stream",
     "text": [
      "[Stage 68:>                                                         (0 + 1) / 1]\r"
     ]
    },
    {
     "name": "stdout",
     "output_type": "stream",
     "text": [
      "['hervatting', 'van', 'de', 'zitting']\n",
      "['ik', 'verklaar', 'de', 'zitting', 'van', 'het', 'europees', 'parlement', 'die', 'op', 'vrijdag', '17', 'december', 'werd', 'onderbroken', 'te', 'zijn', 'hervat', 'ik', 'wens', 'u', 'allen', 'een', 'gelukkig', 'nieuwjaar', 'en', 'hoop', 'dat', 'u', 'een', 'goede', 'vakantie', 'heeft', 'gehad']\n",
      "['zoals', 'u', 'heeft', 'kunnen', 'constateren', 'is', 'de', 'grote', 'millenniumbug', 'uitgebleven', 'de', 'burgers', 'van', 'een', 'aantal', 'van', 'onze', 'lidstaten', 'zijn', 'daarentegen', 'door', 'verschrikkelijke', 'natuurrampen', 'getroffen']\n",
      "['u', 'heeft', 'aangegeven', 'dat', 'u', 'deze', 'vergaderperiode', 'een', 'debat', 'wilt', 'over', 'deze', 'rampen']\n",
      "['nu', 'wil', 'ik', 'graag', 'op', 'verzoek', 'van', 'een', 'aantal', 'collega', 's', 'een', 'minuut', 'stilte', 'in', 'acht', 'nemen', 'ter', 'nagedachtenis', 'van', 'de', 'slachtoffers', 'ik', 'doel', 'hiermee', 'met', 'name', 'op', 'de', 'slachtoffers', 'van', 'het', 'noodweer', 'dat', 'verschillende', 'lidstaten', 'van', 'de', 'unie', 'heeft', 'geteisterd']\n",
      "['ik', 'wil', 'u', 'vragen', 'deze', 'minuut', 'stilte', 'staande', 'in', 'acht', 'te', 'nemen']\n",
      "['het', 'parlement', 'neemt', 'staande', 'een', 'minuut', 'stilte', 'in', 'acht']\n",
      "['mevrouw', 'de', 'voorzitter', 'ik', 'wil', 'een', 'motie', 'van', 'orde', 'stellen']\n",
      "['u', 'zult', 'via', 'de', 'media', 'hebben', 'vernomen', 'dat', 'er', 'zich', 'in', 'sri', 'lanka', 'een', 'aantal', 'bomexplosies', 'en', 'schietpartijen', 'hebben', 'voorgedaan']\n",
      "['een', 'van', 'de', 'mensen', 'die', 'zeer', 'recent', 'in', 'sri', 'lanka', 'is', 'vermoord', 'is', 'de', 'heer', 'kumar', 'ponnambalam', 'die', 'een', 'paar', 'maanden', 'geleden', 'nog', 'een', 'bezoek', 'bracht', 'aan', 'het', 'europees', 'parlement']\n"
     ]
    },
    {
     "name": "stderr",
     "output_type": "stream",
     "text": [
      "                                                                                \r"
     ]
    }
   ],
   "source": [
    "for i in netherlands_transcript_preprocessed.take(10):\n",
    "    print(i)"
   ]
  },
  {
   "cell_type": "code",
   "execution_count": 110,
   "id": "f6bb6a99-ab38-404e-b049-d6b2779fc967",
   "metadata": {},
   "outputs": [
    {
     "name": "stderr",
     "output_type": "stream",
     "text": [
      "[Stage 71:======================================>                   (2 + 1) / 3]\r"
     ]
    },
    {
     "name": "stdout",
     "output_type": "stream",
     "text": [
      "Line counts are same: 1997775\n"
     ]
    },
    {
     "name": "stderr",
     "output_type": "stream",
     "text": [
      "                                                                                \r"
     ]
    }
   ],
   "source": [
    "if english_transcript_preprocessed.count() == netherlands_transcript_preprocessed.count():\n",
    "    print(f'Line counts are same: {english_transcript_preprocessed.count()}')\n",
    "else:\n",
    "    print('not same')"
   ]
  },
  {
   "cell_type": "code",
   "execution_count": 111,
   "id": "99aa89c4-3e5d-4705-a3f6-1faf4f0295c3",
   "metadata": {},
   "outputs": [],
   "source": [
    "def flat_list(l):\n",
    "    return l\n",
    "def map_key(word):\n",
    "    return (word , 1)\n",
    "\n",
    "def sort_key(key):\n",
    "    return -key[1]\n",
    "    "
   ]
  },
  {
   "cell_type": "code",
   "execution_count": 112,
   "id": "84e51d0f-240e-4db7-9201-74dd94707786",
   "metadata": {},
   "outputs": [],
   "source": [
    "mapped_english_transcript = english_transcript_preprocessed.flatMap(flat_list).map(map_key).reduceByKey(add)\n"
   ]
  },
  {
   "cell_type": "code",
   "execution_count": 113,
   "id": "cac32ec4-5a4b-445c-a02f-899df05655c3",
   "metadata": {},
   "outputs": [],
   "source": [
    "mapped_netherlands_transcript = netherlands_transcript_preprocessed.flatMap(flat_list).map(map_key).reduceByKey(add)"
   ]
  },
  {
   "cell_type": "code",
   "execution_count": 114,
   "id": "9a698dac-71ab-4be3-9055-18388f6b29cf",
   "metadata": {},
   "outputs": [
    {
     "name": "stdout",
     "output_type": "stream",
     "text": [
      "top 10 most frequently occured word in English transcript\n"
     ]
    },
    {
     "name": "stderr",
     "output_type": "stream",
     "text": [
      "[Stage 72:======================================>                   (2 + 1) / 3]\r"
     ]
    },
    {
     "name": "stdout",
     "output_type": "stream",
     "text": [
      "the: 3799961\n",
      "of: 1799784\n",
      "to: 1673342\n",
      "and: 1426903\n",
      "in: 1189698\n",
      "that: 909311\n",
      "a: 841063\n",
      "is: 837897\n",
      "for: 580560\n",
      "we: 573706\n"
     ]
    },
    {
     "name": "stderr",
     "output_type": "stream",
     "text": [
      "                                                                                \r"
     ]
    }
   ],
   "source": [
    "print('top 10 most frequently occured word in English transcript')\n",
    "for i,j in mapped_english_transcript.takeOrdered(10, sort_key):\n",
    "    print(f'{i}: {j}')"
   ]
  },
  {
   "cell_type": "code",
   "execution_count": 115,
   "id": "aa58e406-d259-4ecf-af56-9ec0294b2094",
   "metadata": {},
   "outputs": [
    {
     "name": "stdout",
     "output_type": "stream",
     "text": [
      "top 10 most frequently occured word in Dutch transcript\n"
     ]
    },
    {
     "name": "stderr",
     "output_type": "stream",
     "text": [
      "[Stage 74:======================================>                   (2 + 1) / 3]\r"
     ]
    },
    {
     "name": "stdout",
     "output_type": "stream",
     "text": [
      "de: 3862249\n",
      "van: 2053837\n",
      "het: 1726514\n",
      "en: 1370030\n",
      "in: 1003820\n",
      "dat: 992734\n",
      "een: 992302\n",
      "te: 727012\n",
      "is: 701511\n",
      "voor: 595325\n"
     ]
    },
    {
     "name": "stderr",
     "output_type": "stream",
     "text": [
      "                                                                                \r"
     ]
    }
   ],
   "source": [
    "print('top 10 most frequently occured word in Dutch transcript')\n",
    "for i,j in mapped_netherlands_transcript.takeOrdered(10, sort_key):\n",
    "    print(f'{i}: {j}')"
   ]
  },
  {
   "cell_type": "code",
   "execution_count": 116,
   "id": "1bef845b-56c8-4402-89b0-0b9fd66bc894",
   "metadata": {},
   "outputs": [
    {
     "name": "stderr",
     "output_type": "stream",
     "text": [
      "                                                                                \r"
     ]
    },
    {
     "name": "stdout",
     "output_type": "stream",
     "text": [
      "[(['resumption', 'of', 'the', 'session'], 0), (['i', 'declare', 'resumed', 'the', 'session', 'of', 'the', 'european', 'parliament', 'adjourned', 'on', 'friday', '17', 'december', '1999', 'and', 'i', 'would', 'like', 'once', 'again', 'to', 'wish', 'you', 'a', 'happy', 'new', 'year', 'in', 'the', 'hope', 'that', 'you', 'enjoyed', 'a', 'pleasant', 'festive', 'period'], 1), (['although', 'as', 'you', 'will', 'have', 'seen', 'the', 'dreaded', 'millennium', 'bug', 'failed', 'to', 'materialise', 'still', 'the', 'people', 'in', 'a', 'number', 'of', 'countries', 'suffered', 'a', 'series', 'of', 'natural', 'disasters', 'that', 'truly', 'were', 'dreadful'], 2), (['you', 'have', 'requested', 'a', 'debate', 'on', 'this', 'subject', 'in', 'the', 'course', 'of', 'the', 'next', 'few', 'days', 'during', 'this', 'part', 'session'], 3), (['in', 'the', 'meantime', 'i', 'should', 'like', 'to', 'observe', 'a', 'minute', 's', 'silence', 'as', 'a', 'number', 'of', 'members', 'have', 'requested', 'on', 'behalf', 'of', 'all', 'the', 'victims', 'concerned', 'particularly', 'those', 'of', 'the', 'terrible', 'storms', 'in', 'the', 'various', 'countries', 'of', 'the', 'european', 'union'], 4)]\n"
     ]
    },
    {
     "name": "stderr",
     "output_type": "stream",
     "text": [
      "                                                                                \r"
     ]
    }
   ],
   "source": [
    "en_1 = english_transcript_preprocessed.zipWithIndex()\n",
    "print(en_1.take(5))"
   ]
  },
  {
   "cell_type": "code",
   "execution_count": 117,
   "id": "689e43b2-a6d4-4f13-9bd2-b40cd864aa9b",
   "metadata": {},
   "outputs": [
    {
     "name": "stderr",
     "output_type": "stream",
     "text": [
      "                                                                                \r"
     ]
    },
    {
     "name": "stdout",
     "output_type": "stream",
     "text": [
      "[(['hervatting', 'van', 'de', 'zitting'], 0), (['ik', 'verklaar', 'de', 'zitting', 'van', 'het', 'europees', 'parlement', 'die', 'op', 'vrijdag', '17', 'december', 'werd', 'onderbroken', 'te', 'zijn', 'hervat', 'ik', 'wens', 'u', 'allen', 'een', 'gelukkig', 'nieuwjaar', 'en', 'hoop', 'dat', 'u', 'een', 'goede', 'vakantie', 'heeft', 'gehad'], 1), (['zoals', 'u', 'heeft', 'kunnen', 'constateren', 'is', 'de', 'grote', 'millenniumbug', 'uitgebleven', 'de', 'burgers', 'van', 'een', 'aantal', 'van', 'onze', 'lidstaten', 'zijn', 'daarentegen', 'door', 'verschrikkelijke', 'natuurrampen', 'getroffen'], 2), (['u', 'heeft', 'aangegeven', 'dat', 'u', 'deze', 'vergaderperiode', 'een', 'debat', 'wilt', 'over', 'deze', 'rampen'], 3), (['nu', 'wil', 'ik', 'graag', 'op', 'verzoek', 'van', 'een', 'aantal', 'collega', 's', 'een', 'minuut', 'stilte', 'in', 'acht', 'nemen', 'ter', 'nagedachtenis', 'van', 'de', 'slachtoffers', 'ik', 'doel', 'hiermee', 'met', 'name', 'op', 'de', 'slachtoffers', 'van', 'het', 'noodweer', 'dat', 'verschillende', 'lidstaten', 'van', 'de', 'unie', 'heeft', 'geteisterd'], 4)]\n"
     ]
    },
    {
     "name": "stderr",
     "output_type": "stream",
     "text": [
      "                                                                                \r"
     ]
    }
   ],
   "source": [
    "\n",
    "\n",
    "nl_1 = netherlands_transcript_preprocessed.zipWithIndex()\n",
    "print(nl_1.take(5))"
   ]
  },
  {
   "cell_type": "code",
   "execution_count": 118,
   "id": "fea94210-b4c8-4522-950b-16c2257d9468",
   "metadata": {},
   "outputs": [],
   "source": [
    "def swap_element(rdd):\n",
    "    return rdd.map(lambda x: (x[1],x[0]))\n",
    "\n",
    "\n",
    "en_2 = swap_element(en_1)\n",
    "nl_2 = swap_element(nl_1)"
   ]
  },
  {
   "cell_type": "code",
   "execution_count": 119,
   "id": "0ae24cb4-5e70-4703-93c6-6f7df45ab3fe",
   "metadata": {},
   "outputs": [
    {
     "name": "stdout",
     "output_type": "stream",
     "text": [
      "[(0, ['resumption', 'of', 'the', 'session']), (1, ['i', 'declare', 'resumed', 'the', 'session', 'of', 'the', 'european', 'parliament', 'adjourned', 'on', 'friday', '17', 'december', '1999', 'and', 'i', 'would', 'like', 'once', 'again', 'to', 'wish', 'you', 'a', 'happy', 'new', 'year', 'in', 'the', 'hope', 'that', 'you', 'enjoyed', 'a', 'pleasant', 'festive', 'period']), (2, ['although', 'as', 'you', 'will', 'have', 'seen', 'the', 'dreaded', 'millennium', 'bug', 'failed', 'to', 'materialise', 'still', 'the', 'people', 'in', 'a', 'number', 'of', 'countries', 'suffered', 'a', 'series', 'of', 'natural', 'disasters', 'that', 'truly', 'were', 'dreadful']), (3, ['you', 'have', 'requested', 'a', 'debate', 'on', 'this', 'subject', 'in', 'the', 'course', 'of', 'the', 'next', 'few', 'days', 'during', 'this', 'part', 'session']), (4, ['in', 'the', 'meantime', 'i', 'should', 'like', 'to', 'observe', 'a', 'minute', 's', 'silence', 'as', 'a', 'number', 'of', 'members', 'have', 'requested', 'on', 'behalf', 'of', 'all', 'the', 'victims', 'concerned', 'particularly', 'those', 'of', 'the', 'terrible', 'storms', 'in', 'the', 'various', 'countries', 'of', 'the', 'european', 'union'])]\n"
     ]
    }
   ],
   "source": [
    "print(en_2.take(5))"
   ]
  },
  {
   "cell_type": "code",
   "execution_count": 120,
   "id": "092a55d1-448c-4c8c-a36b-9e4ef21eff62",
   "metadata": {},
   "outputs": [
    {
     "name": "stdout",
     "output_type": "stream",
     "text": [
      "[(0, ['hervatting', 'van', 'de', 'zitting']), (1, ['ik', 'verklaar', 'de', 'zitting', 'van', 'het', 'europees', 'parlement', 'die', 'op', 'vrijdag', '17', 'december', 'werd', 'onderbroken', 'te', 'zijn', 'hervat', 'ik', 'wens', 'u', 'allen', 'een', 'gelukkig', 'nieuwjaar', 'en', 'hoop', 'dat', 'u', 'een', 'goede', 'vakantie', 'heeft', 'gehad']), (2, ['zoals', 'u', 'heeft', 'kunnen', 'constateren', 'is', 'de', 'grote', 'millenniumbug', 'uitgebleven', 'de', 'burgers', 'van', 'een', 'aantal', 'van', 'onze', 'lidstaten', 'zijn', 'daarentegen', 'door', 'verschrikkelijke', 'natuurrampen', 'getroffen']), (3, ['u', 'heeft', 'aangegeven', 'dat', 'u', 'deze', 'vergaderperiode', 'een', 'debat', 'wilt', 'over', 'deze', 'rampen']), (4, ['nu', 'wil', 'ik', 'graag', 'op', 'verzoek', 'van', 'een', 'aantal', 'collega', 's', 'een', 'minuut', 'stilte', 'in', 'acht', 'nemen', 'ter', 'nagedachtenis', 'van', 'de', 'slachtoffers', 'ik', 'doel', 'hiermee', 'met', 'name', 'op', 'de', 'slachtoffers', 'van', 'het', 'noodweer', 'dat', 'verschillende', 'lidstaten', 'van', 'de', 'unie', 'heeft', 'geteisterd'])]\n"
     ]
    },
    {
     "name": "stderr",
     "output_type": "stream",
     "text": [
      "                                                                                \r"
     ]
    }
   ],
   "source": [
    "print(nl_2.take(5))"
   ]
  },
  {
   "cell_type": "code",
   "execution_count": 121,
   "id": "adf267e8-31de-442c-94b4-5a20face2306",
   "metadata": {},
   "outputs": [
    {
     "name": "stderr",
     "output_type": "stream",
     "text": [
      "[Stage 83:>                                                         (0 + 1) / 1]\r"
     ]
    },
    {
     "name": "stdout",
     "output_type": "stream",
     "text": [
      "[(1069044, (['slavery', 'is', 'still', 'the', 'custom', 'there', 'which', 'means', 'people', 'are', 'deprived', 'of', 'their', 'cultural', 'and', 'religious', 'identity', 'and', 'their', 'personality'], ['slavernij', 'is', 'hier', 'nog', 'gewoon', 'wat', 'betekent', 'dat', 'mensen', 'worden', 'beroofd', 'van', 'hun', 'culturele', 'en', 'religieuze', 'identiteit', 'en', 'van', 'hun', 'persoonlijkheid'])), (1142934, (['i', 'also', 'urge', 'the', 'commission', 'and', 'member', 'states', 'to', 'provide', 'financing', 'for', 'the', 'measures', 'aimed', 'at', 'cutting', 'the', 'pollution', 'produced', 'by', 'coal', 'powered', 'installations'], ['ik', 'verzoek', 'de', 'commissie', 'en', 'de', 'lidstaten', 'bovendien', 'om', 'maatregelen', 'te', 'financieren', 'die', 'de', 'vervuiling', 'beperken', 'die', 'wordt', 'veroorzaakt', 'door', 'koleninstallaties'])), (1160646, (['as', 'mr', 'harbour', 'and', 'the', 'commissioner', 'have', 'pointed', 'out', 'simplification', 'is', 'part', 'of', 'this', 'proposal', 'and', 'that', 'is', 'very', 'important'], ['zoals', 'de', 'heer', 'harbour', 'en', 'de', 'commissaris', 'al', 'aangaven', 'behelst', 'dit', 'voorstel', 'ook', 'vereenvoudiging', 'en', 'dat', 'is', 'heel', 'belangrijk'])), (1175532, (['employing', 'compulsion', 'in', 'this', 'situation', 'is', 'completely', 'unacceptable'], ['dwang', 'uitoefenen', 'is', 'in', 'deze', 'context', 'absoluut', 'onaanvaardbaar'])), (1207956, (['we', 'can', 'disagree', 'and', 'we', 'can', 'argue', 'constructively', 'but', 'we', 'do', 'so', 'within', 'a', 'framework', 'of', 'agreed', 'rules', 'and', 'procedures'], ['we', 'kunnen', 'met', 'elkaar', 'van', 'mening', 'verschillen', 'en', 'we', 'kunnen', 'constructieve', 'discussies', 'voeren', 'maar', 'we', 'doen', 'dat', 'binnen', 'een', 'kader', 'van', 'regels', 'en', 'procedures', 'waarover', 'we', 'het', 'eens', 'zijn']))]\n"
     ]
    },
    {
     "name": "stderr",
     "output_type": "stream",
     "text": [
      "                                                                                \r"
     ]
    }
   ],
   "source": [
    "en_nl_join = en_2.join(nl_2)\n",
    "print(en_nl_join.take(5))"
   ]
  },
  {
   "cell_type": "code",
   "execution_count": 122,
   "id": "0a4be596-d933-469e-939f-b05e8069430f",
   "metadata": {},
   "outputs": [
    {
     "name": "stderr",
     "output_type": "stream",
     "text": [
      "[Stage 85:>                                                         (0 + 1) / 1]\r"
     ]
    },
    {
     "name": "stdout",
     "output_type": "stream",
     "text": [
      "[(41994, (['mr', 'president', 'i', 'join', 'with', 'previous', 'speakers', 'in', 'demanding', 'the', 'immediate', 'and', 'unconditional', 'abolition', 'of', 'the', 'death', 'penalty', 'in', 'the', 'united', 'states', 'and', 'everywhere', 'else', 'in', 'the', 'world'], ['mijnheer', 'de', 'voorzitter', 'ik', 'steun', 'de', 'voorafgaande', 'sprekers', 'die', 'gepleit', 'hebben', 'voor', 'de', 'onmiddellijke', 'en', 'onvoorwaardelijke', 'afschaffing', 'van', 'de', 'doodstraf', 'in', 'de', 'verenigde', 'staten', 'en', 'de', 'rest', 'van', 'de', 'wereld'])), (180906, (['there', 'are', 'two', 'central', 'principles', 'if', 'the', 'code', 'is', 'to', 'be', 'fully', 'effective'], ['er', 'zijn', 'twee', 'kernprincipes', 'waaraan', 'de', 'code', 'moet', 'voldoen', 'om', 'volkomen', 'effectief', 'te', 'zijn'])), (205716, (['four', 'additional', 'amendments', 'have', 'been', 'tabled', 'including', 'one', 'by', 'my', 'group', 'and', 'three', 'by', 'the', 'greens'], ['er', 'zijn', 'nog', 'vier', 'amendementen', 'ingediend', 'eentje', 'van', 'mijn', 'fractie', 'en', 'drie', 'van', 'de', 'groenen'])), (321588, (['i', 'think', 'this', 'is', 'axiomatic', 'but', 'i', 'would', 'like', 'to', 'reiterate', 'and', 'underline', 'this', 'point', 'here', 'once', 'again'], ['dat', 'is', 'naar', 'mijn', 'mening', 'een', 'vanzelfsprekendheid', 'maar', 'ik', 'wil', 'hier', 'nogmaals', 'de', 'nadruk', 'op', 'leggen'])), (344628, (['i', 'am', 'especially', 'pleased', 'with', 'the', 'support', 'given', 'by', 'the', 'committee', 'to', 'my', 'proposal', 'that', 'consideration', 'should', 'be', 'given', 'to', 'setting', 'up', 'a', 'competition', 'court', 'article', '225', 'a', 'of', 'the', 'treaty', 'of', 'nice', 'having', 'paved', 'the', 'way', 'for', 'such', 'a', 'possibility'], ['vooral', 'de', 'steun', 'van', 'de', 'parlementaire', 'commissie', 'aan', 'mijn', 'voorstel', 'dat', 'men', 'de', 'instelling', 'van', 'een', 'mededingingsrechtbank', 'dient', 'te', 'overwegen', 'waarvoor', 'in', 'artikel', '225', 'a', 'van', 'het', 'verdrag', 'van', 'nice', 'de', 'mogelijkheid', 'is', 'gecreëerd', 'doet', 'mij', 'deugd']))]\n"
     ]
    },
    {
     "name": "stderr",
     "output_type": "stream",
     "text": [
      "                                                                                \r"
     ]
    }
   ],
   "source": [
    "en_nl_filter = en_nl_join.filter(lambda x: x[1][0] != \"\" and x[1][1] != \"\")\n",
    "\n",
    "print(en_nl_filter.take(5))"
   ]
  },
  {
   "cell_type": "code",
   "execution_count": 123,
   "id": "62f57ea4-e4c3-4ff9-900e-256fed60fba1",
   "metadata": {},
   "outputs": [
    {
     "name": "stderr",
     "output_type": "stream",
     "text": [
      "[Stage 87:>                                                         (0 + 1) / 1]\r"
     ]
    },
    {
     "name": "stdout",
     "output_type": "stream",
     "text": [
      "[(1175532, (['employing', 'compulsion', 'in', 'this', 'situation', 'is', 'completely', 'unacceptable'], ['dwang', 'uitoefenen', 'is', 'in', 'deze', 'context', 'absoluut', 'onaanvaardbaar'])), (947238, (['the', 'proposal', 'reeks', 'of', 'covert', 'protectionism'], ['dit', 'voorstel', 'riekt', 'naar', 'verkapt', 'protectionisme'])), (1014588, (['petitions', 'see', 'minutes'], ['verzoekschriften', 'zie', 'notulen'])), (1293018, (['so', 'what', 'is', 'the', 'reality'], ['wat', 'betekende', 'dit', 'in', 'de', 'praktijk'])), (1365744, (['written', 'statements', 'rule', '149'], ['schriftelijke', 'verklaringen', 'artikel', '149']))]\n"
     ]
    },
    {
     "name": "stderr",
     "output_type": "stream",
     "text": [
      "                                                                                \r"
     ]
    }
   ],
   "source": [
    "en_nl_len_filter = en_nl_filter.filter(lambda x: len(x[1][0]) <= 8 and len(x[1][1]) <= 8)\n",
    "\n",
    "print(en_nl_len_filter.take(5))"
   ]
  },
  {
   "cell_type": "code",
   "execution_count": 124,
   "id": "80e43605-8eeb-4442-b8c4-8fffee4232c3",
   "metadata": {},
   "outputs": [
    {
     "name": "stderr",
     "output_type": "stream",
     "text": [
      "[Stage 89:>                                                         (0 + 1) / 1]\r"
     ]
    },
    {
     "name": "stdout",
     "output_type": "stream",
     "text": [
      "[(941406, (['report', 'inés', 'ayala', 'sender'], ['verslag', 'inés', 'ayala', 'sender'])), (956892, (['the', 'debate', 'is', 'closed'], ['het', 'debat', 'is', 'gesloten'])), (1001016, (['6'], ['6'])), (1219230, (['that', 'is', 'my', 'question'], ['dat', 'is', 'mijn', 'vraag'])), (1432200, (['what', 'a', 'difference'], ['wat', 'een', 'verschil']))]\n"
     ]
    },
    {
     "name": "stderr",
     "output_type": "stream",
     "text": [
      "                                                                                \r"
     ]
    }
   ],
   "source": [
    "en_nl_equal_len_filter = en_nl_len_filter.filter(lambda x: len(x[1][0]) == len(x[1][1]))\n",
    "\n",
    "print(en_nl_equal_len_filter.take(5))"
   ]
  },
  {
   "cell_type": "code",
   "execution_count": 125,
   "id": "244d37ff-f47c-4787-b41e-3b64ddaacc5c",
   "metadata": {},
   "outputs": [
    {
     "name": "stderr",
     "output_type": "stream",
     "text": [
      "[Stage 91:>                                                         (0 + 1) / 1]\r"
     ]
    },
    {
     "name": "stdout",
     "output_type": "stream",
     "text": [
      "[[('it', 'het'), ('was', 'was'), ('a', 'een'), ('conference', 'conferentie'), ('on', 'over'), ('water', 'water')], [('the', 'de'), ('gsp', 'sap'), ('agreements', 'overeenkomsten'), ('must', 'moeten'), ('be', 'worden'), ('suspended', 'opgeschort')], [('otherwise', 'anders'), ('we', 'belanden'), ('are', 'we'), ('heading', 'in'), ('towards', 'een'), ('communicative', 'communicatieve'), ('chaos', 'chaos')], [('the', 'het'), ('united', 'verenigd'), ('kingdom', 'koninkrijk'), ('is', 'is'), ('a', 'een'), ('great', 'geweldig'), ('nation', 'land')], [('4', '4')]]\n"
     ]
    },
    {
     "name": "stderr",
     "output_type": "stream",
     "text": [
      "                                                                                \r"
     ]
    }
   ],
   "source": [
    "en_nl_map = en_nl_equal_len_filter.map(lambda x: list(zip(x[1][0], x[1][1])))\n",
    "\n",
    "print(en_nl_map.take(5))"
   ]
  },
  {
   "cell_type": "code",
   "execution_count": 126,
   "id": "7c983f62-6ad9-4ec9-bbe8-351fe2ef963b",
   "metadata": {},
   "outputs": [
    {
     "name": "stderr",
     "output_type": "stream",
     "text": [
      "[Stage 93:================================================>         (5 + 1) / 6]\r"
     ]
    },
    {
     "name": "stdout",
     "output_type": "stream",
     "text": [
      "[(('vote', 'daarom'), 4), (('this', 'dit'), 1820), (('the', 'het'), 6959), (('still', 'statuut'), 1), (('waiting', 'wachten'), 5), (('for', 'wij'), 10), (('this', 'nog'), 11), (('the', 'de'), 8135), (('these', 'doelstellingen'), 3), (('objectives', 'volledig'), 2)]\n"
     ]
    },
    {
     "name": "stderr",
     "output_type": "stream",
     "text": [
      "                                                                                \r"
     ]
    }
   ],
   "source": [
    "en_nl_map_reduce = en_nl_map.flatMap(flat_list).map(map_key).reduceByKey(add)\n",
    "print(en_nl_map_reduce.take(10))"
   ]
  },
  {
   "cell_type": "code",
   "execution_count": 127,
   "id": "e9da3d84-01e5-429b-b3b7-579e00b5ac03",
   "metadata": {},
   "outputs": [
    {
     "name": "stdout",
     "output_type": "stream",
     "text": [
      "is:is => 12297\n",
      "the:de => 8135\n",
      "the:het => 6959\n",
      "debate:debat => 5045\n",
      "closed:gesloten => 4765\n",
      "applause:applaus => 3714\n",
      "that:dat => 3240\n",
      "of:van => 2954\n",
      "i:ik => 2837\n",
      "a:een => 2719\n"
     ]
    }
   ],
   "source": [
    "for i,j in en_nl_map_reduce.takeOrdered(10,sort_key):\n",
    "    print(f'{i[0]}:{i[1]} => {j}')"
   ]
  },
  {
   "cell_type": "code",
   "execution_count": 128,
   "id": "03d8ed7c-9af7-45f0-9719-698ccf57a213",
   "metadata": {},
   "outputs": [],
   "source": [
    "spark_context.stop()"
   ]
  }
 ],
 "metadata": {
  "kernelspec": {
   "display_name": "Python 3 (ipykernel)",
   "language": "python",
   "name": "python3"
  },
  "language_info": {
   "codemirror_mode": {
    "name": "ipython",
    "version": 3
   },
   "file_extension": ".py",
   "mimetype": "text/x-python",
   "name": "python",
   "nbconvert_exporter": "python",
   "pygments_lexer": "ipython3",
   "version": "3.8.10"
  }
 },
 "nbformat": 4,
 "nbformat_minor": 5
}
